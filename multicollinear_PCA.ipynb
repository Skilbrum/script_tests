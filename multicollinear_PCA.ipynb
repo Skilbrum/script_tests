{
 "cells": [
  {
   "cell_type": "code",
   "execution_count": 1,
   "id": "1464e43e-6bb4-4a46-9a7d-95f77c3521a3",
   "metadata": {},
   "outputs": [],
   "source": [
    "import numpy as np\n",
    "from sklearn.decomposition import PCA"
   ]
  },
  {
   "cell_type": "code",
   "execution_count": 2,
   "id": "55a9764c-7c61-49c2-add4-2b7687ccfad1",
   "metadata": {},
   "outputs": [],
   "source": [
    "n = 1000\n",
    "X = np.random.rand(n, 2)\n",
    "x_m = X[:, 0] + np.random.normal(scale=0.05, size=n)\n",
    "X = np.column_stack([X, x_m])"
   ]
  },
  {
   "cell_type": "code",
   "execution_count": 3,
   "id": "0f80dfc2-7d71-475f-be90-1ecfa144cff6",
   "metadata": {},
   "outputs": [
    {
     "data": {
      "text/plain": [
       "array([[1.00000000e+00, 6.20530934e-04, 9.85367633e-01],\n",
       "       [6.20530934e-04, 1.00000000e+00, 2.80335518e-03],\n",
       "       [9.85367633e-01, 2.80335518e-03, 1.00000000e+00]])"
      ]
     },
     "execution_count": 3,
     "metadata": {},
     "output_type": "execute_result"
    }
   ],
   "source": [
    "np.corrcoef(X, rowvar=False)"
   ]
  },
  {
   "cell_type": "code",
   "execution_count": 4,
   "id": "571cd8b8-0e98-436e-8b20-d1e662748f99",
   "metadata": {},
   "outputs": [],
   "source": [
    "pca = PCA(n_components=2)"
   ]
  },
  {
   "cell_type": "code",
   "execution_count": 5,
   "id": "67fca22e-a664-4036-b70d-489a361d643a",
   "metadata": {},
   "outputs": [],
   "source": [
    "Xt = pca.fit_transform(X)"
   ]
  },
  {
   "cell_type": "code",
   "execution_count": 6,
   "id": "ea67ddfd-910f-4ea2-8a9a-7468db9a2758",
   "metadata": {},
   "outputs": [
    {
     "data": {
      "text/plain": [
       "(1000, 2)"
      ]
     },
     "execution_count": 6,
     "metadata": {},
     "output_type": "execute_result"
    }
   ],
   "source": [
    "Xt.shape"
   ]
  },
  {
   "cell_type": "code",
   "execution_count": 7,
   "id": "4de27350-cdd5-4ba7-a157-0f4a0c4f4604",
   "metadata": {},
   "outputs": [
    {
     "data": {
      "text/plain": [
       "array([0.66383311, 0.33127876])"
      ]
     },
     "execution_count": 7,
     "metadata": {},
     "output_type": "execute_result"
    }
   ],
   "source": [
    "pca.explained_variance_ratio_"
   ]
  },
  {
   "cell_type": "code",
   "execution_count": 8,
   "id": "edc20d30-9892-45c4-8eb1-0ca12b001290",
   "metadata": {},
   "outputs": [
    {
     "data": {
      "text/plain": [
       "array([[-6.97412535e-01, -2.46470774e-03, -7.16665669e-01],\n",
       "       [-2.84610555e-03,  9.99995726e-01, -6.69471891e-04]])"
      ]
     },
     "execution_count": 8,
     "metadata": {},
     "output_type": "execute_result"
    }
   ],
   "source": [
    "pca.components_"
   ]
  },
  {
   "cell_type": "code",
   "execution_count": 9,
   "id": "8a6fc7a3-2ec7-4446-88db-95f029e89a00",
   "metadata": {},
   "outputs": [
    {
     "data": {
      "text/plain": [
       "array([[ 1.00000000e+00, -2.43475348e-17],\n",
       "       [-2.43475348e-17,  1.00000000e+00]])"
      ]
     },
     "execution_count": 9,
     "metadata": {},
     "output_type": "execute_result"
    }
   ],
   "source": [
    "np.corrcoef(Xt, rowvar=False)"
   ]
  }
 ],
 "metadata": {
  "kernelspec": {
   "display_name": "Python 3",
   "language": "python",
   "name": "python3"
  },
  "language_info": {
   "codemirror_mode": {
    "name": "ipython",
    "version": 3
   },
   "file_extension": ".py",
   "mimetype": "text/x-python",
   "name": "python",
   "nbconvert_exporter": "python",
   "pygments_lexer": "ipython3",
   "version": "3.7.3"
  }
 },
 "nbformat": 4,
 "nbformat_minor": 5
}
