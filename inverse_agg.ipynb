{
 "cells": [
  {
   "cell_type": "code",
   "execution_count": 1,
   "id": "c3e02cf8-5c27-4b44-99c7-e9ff0ac760c3",
   "metadata": {},
   "outputs": [],
   "source": [
    "import itertools\n",
    "import numpy as np\n",
    "import pandas as pd"
   ]
  },
  {
   "cell_type": "code",
   "execution_count": 2,
   "id": "af72b20b-235e-4b69-9607-a2c7f08f3799",
   "metadata": {},
   "outputs": [
    {
     "data": {
      "text/plain": [
       "<itertools.product at 0x7fa424b4e8b8>"
      ]
     },
     "execution_count": 2,
     "metadata": {},
     "output_type": "execute_result"
    }
   ],
   "source": [
    "itertools.product(np.arange(0, 10), repeat=2)"
   ]
  },
  {
   "cell_type": "code",
   "execution_count": 3,
   "id": "05e79327-8697-4e15-9e00-c9e11a1bf70f",
   "metadata": {},
   "outputs": [
    {
     "data": {
      "text/html": [
       "<div>\n",
       "<style scoped>\n",
       "    .dataframe tbody tr th:only-of-type {\n",
       "        vertical-align: middle;\n",
       "    }\n",
       "\n",
       "    .dataframe tbody tr th {\n",
       "        vertical-align: top;\n",
       "    }\n",
       "\n",
       "    .dataframe thead th {\n",
       "        text-align: right;\n",
       "    }\n",
       "</style>\n",
       "<table border=\"1\" class=\"dataframe\">\n",
       "  <thead>\n",
       "    <tr style=\"text-align: right;\">\n",
       "      <th></th>\n",
       "      <th>f1</th>\n",
       "      <th>f2</th>\n",
       "      <th>value</th>\n",
       "    </tr>\n",
       "  </thead>\n",
       "  <tbody>\n",
       "    <tr>\n",
       "      <th>0</th>\n",
       "      <td>0</td>\n",
       "      <td>0</td>\n",
       "      <td>329</td>\n",
       "    </tr>\n",
       "    <tr>\n",
       "      <th>1</th>\n",
       "      <td>0</td>\n",
       "      <td>1</td>\n",
       "      <td>735</td>\n",
       "    </tr>\n",
       "    <tr>\n",
       "      <th>2</th>\n",
       "      <td>0</td>\n",
       "      <td>2</td>\n",
       "      <td>968</td>\n",
       "    </tr>\n",
       "    <tr>\n",
       "      <th>3</th>\n",
       "      <td>0</td>\n",
       "      <td>3</td>\n",
       "      <td>884</td>\n",
       "    </tr>\n",
       "    <tr>\n",
       "      <th>4</th>\n",
       "      <td>0</td>\n",
       "      <td>4</td>\n",
       "      <td>340</td>\n",
       "    </tr>\n",
       "    <tr>\n",
       "      <th>...</th>\n",
       "      <td>...</td>\n",
       "      <td>...</td>\n",
       "      <td>...</td>\n",
       "    </tr>\n",
       "    <tr>\n",
       "      <th>95</th>\n",
       "      <td>9</td>\n",
       "      <td>5</td>\n",
       "      <td>109</td>\n",
       "    </tr>\n",
       "    <tr>\n",
       "      <th>96</th>\n",
       "      <td>9</td>\n",
       "      <td>6</td>\n",
       "      <td>89</td>\n",
       "    </tr>\n",
       "    <tr>\n",
       "      <th>97</th>\n",
       "      <td>9</td>\n",
       "      <td>7</td>\n",
       "      <td>891</td>\n",
       "    </tr>\n",
       "    <tr>\n",
       "      <th>98</th>\n",
       "      <td>9</td>\n",
       "      <td>8</td>\n",
       "      <td>116</td>\n",
       "    </tr>\n",
       "    <tr>\n",
       "      <th>99</th>\n",
       "      <td>9</td>\n",
       "      <td>9</td>\n",
       "      <td>921</td>\n",
       "    </tr>\n",
       "  </tbody>\n",
       "</table>\n",
       "<p>100 rows × 3 columns</p>\n",
       "</div>"
      ],
      "text/plain": [
       "    f1  f2  value\n",
       "0    0   0    329\n",
       "1    0   1    735\n",
       "2    0   2    968\n",
       "3    0   3    884\n",
       "4    0   4    340\n",
       "..  ..  ..    ...\n",
       "95   9   5    109\n",
       "96   9   6     89\n",
       "97   9   7    891\n",
       "98   9   8    116\n",
       "99   9   9    921\n",
       "\n",
       "[100 rows x 3 columns]"
      ]
     },
     "execution_count": 3,
     "metadata": {},
     "output_type": "execute_result"
    }
   ],
   "source": [
    "agg_df = pd.DataFrame(itertools.product(np.arange(0, 10), repeat=2))\n",
    "agg_df.columns = ['f1', 'f2']\n",
    "agg_df['value'] = np.random.randint(1, 1001, size=agg_df.shape[0])\n",
    "agg_df"
   ]
  },
  {
   "cell_type": "code",
   "execution_count": 4,
   "id": "d5cd17ac-b33b-4073-8626-ea4e89b6aebe",
   "metadata": {},
   "outputs": [],
   "source": [
    "def inverse_agg_count(series):\n",
    "    '''\n",
    "    Inverse count agregation.\n",
    "    \n",
    "    Parameters\n",
    "    ----------\n",
    "    series : pd.Series with 1d index\n",
    "    Count aggregation result.\n",
    "    \n",
    "    Returns\n",
    "    -------\n",
    "    index : 1d index\n",
    "    Index values repeated series.values times.\n",
    "    index.to_series().groupby(index).count() returns series.\n",
    "    '''\n",
    "    return np.repeat(series.index, series)"
   ]
  },
  {
   "cell_type": "code",
   "execution_count": 5,
   "id": "16580733-26a6-4559-af2d-aa5be8ae2273",
   "metadata": {},
   "outputs": [],
   "source": [
    "def repeat_range(repeats, range_step=1):\n",
    "    '''\n",
    "    Repeat range.\n",
    "    \n",
    "    Parameters\n",
    "    ----------\n",
    "    repeats : 1d np.ndarray, dtype=int\n",
    "    Nonzero number of repetitions for each element in range.\n",
    "    \n",
    "    range_step : int\n",
    "    Step of sequence of integers from 0 to len(repeats).\n",
    "    \n",
    "    Returns\n",
    "    -------\n",
    "    res : 1d np.ndarray, dtype : int\n",
    "    '''\n",
    "    idx = repeats.cumsum()\n",
    "    res = np.zeros(idx[-1], dtype=int)\n",
    "    res[idx[:-1]] = range_step\n",
    "    res = res.cumsum()\n",
    "    return res"
   ]
  },
  {
   "cell_type": "code",
   "execution_count": 6,
   "id": "e2287c8f-9e16-4eee-9f4e-fbb3ec41805e",
   "metadata": {},
   "outputs": [],
   "source": [
    "def inv_agg_count(series):\n",
    "    res = []\n",
    "    for i, v in series.iteritems():\n",
    "        res.extend([i]*v)\n",
    "    return res"
   ]
  },
  {
   "cell_type": "code",
   "execution_count": 7,
   "id": "a5393526-bb40-4d5e-b6c7-09ffee8ea558",
   "metadata": {},
   "outputs": [],
   "source": [
    "res1 = pd.Series(inv_agg_count(agg_df['value']))\n",
    "res3 = pd.Series(inverse_agg_count(agg_df['value']))\n",
    "res2 = pd.Series(repeat_range(agg_df['value'].values))"
   ]
  },
  {
   "cell_type": "code",
   "execution_count": 8,
   "id": "14a8d954-0ffe-448a-84e7-02589cb95357",
   "metadata": {},
   "outputs": [
    {
     "data": {
      "text/plain": [
       "True"
      ]
     },
     "execution_count": 8,
     "metadata": {},
     "output_type": "execute_result"
    }
   ],
   "source": [
    "res = pd.concat([res1, res2, res3], axis=1)\n",
    "mask = res == res1.values.reshape(-1, 1)\n",
    "mask.values.all()"
   ]
  },
  {
   "cell_type": "code",
   "execution_count": 9,
   "id": "a980f716-79b6-4c54-98e2-d3d95d9eadf5",
   "metadata": {},
   "outputs": [
    {
     "name": "stdout",
     "output_type": "stream",
     "text": [
      "323 µs ± 807 ns per loop (mean ± std. dev. of 7 runs, 1000 loops each)\n"
     ]
    }
   ],
   "source": [
    "%timeit inv_agg_count(agg_df['value'])"
   ]
  },
  {
   "cell_type": "code",
   "execution_count": 10,
   "id": "8bb371c6-ae28-410e-bdef-aa908e36f0b2",
   "metadata": {},
   "outputs": [
    {
     "name": "stdout",
     "output_type": "stream",
     "text": [
      "133 µs ± 3.9 µs per loop (mean ± std. dev. of 7 runs, 10000 loops each)\n"
     ]
    }
   ],
   "source": [
    "%timeit inverse_agg_count(agg_df['value'])"
   ]
  },
  {
   "cell_type": "code",
   "execution_count": 11,
   "id": "d5c3d5d3-7670-4064-89bf-a6a028f6669c",
   "metadata": {},
   "outputs": [
    {
     "name": "stdout",
     "output_type": "stream",
     "text": [
      "79.8 µs ± 194 ns per loop (mean ± std. dev. of 7 runs, 10000 loops each)\n"
     ]
    }
   ],
   "source": [
    "%timeit repeat_range(agg_df['value'].values)"
   ]
  }
 ],
 "metadata": {
  "kernelspec": {
   "display_name": "Python 3",
   "language": "python",
   "name": "python3"
  },
  "language_info": {
   "codemirror_mode": {
    "name": "ipython",
    "version": 3
   },
   "file_extension": ".py",
   "mimetype": "text/x-python",
   "name": "python",
   "nbconvert_exporter": "python",
   "pygments_lexer": "ipython3",
   "version": "3.7.3"
  }
 },
 "nbformat": 4,
 "nbformat_minor": 5
}
