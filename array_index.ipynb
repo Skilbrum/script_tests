{
 "cells": [
  {
   "cell_type": "code",
   "execution_count": 1,
   "metadata": {
    "Collapsed": "false"
   },
   "outputs": [],
   "source": [
    "import numpy as np"
   ]
  },
  {
   "cell_type": "code",
   "execution_count": 2,
   "metadata": {
    "Collapsed": "false"
   },
   "outputs": [],
   "source": [
    "a = np.random.randint(10, size=(10, 4))"
   ]
  },
  {
   "cell_type": "markdown",
   "metadata": {
    "Collapsed": "false"
   },
   "source": [
    "## 2d_arr[2d_idx] = 3d_arr"
   ]
  },
  {
   "cell_type": "code",
   "execution_count": 3,
   "metadata": {
    "Collapsed": "false"
   },
   "outputs": [
    {
     "data": {
      "text/plain": [
       "array([[0, 1, 4, 0],\n",
       "       [3, 8, 2, 3],\n",
       "       [2, 8, 9, 1],\n",
       "       [8, 7, 2, 9],\n",
       "       [0, 2, 6, 6],\n",
       "       [4, 6, 3, 1],\n",
       "       [5, 2, 6, 6],\n",
       "       [6, 9, 1, 2],\n",
       "       [8, 5, 5, 1],\n",
       "       [1, 5, 0, 5]])"
      ]
     },
     "execution_count": 3,
     "metadata": {},
     "output_type": "execute_result"
    }
   ],
   "source": [
    "a"
   ]
  },
  {
   "cell_type": "code",
   "execution_count": 4,
   "metadata": {
    "Collapsed": "false"
   },
   "outputs": [
    {
     "data": {
      "text/plain": [
       "array([[[0, 1, 4, 0],\n",
       "        [3, 8, 2, 3],\n",
       "        [0, 2, 6, 6],\n",
       "        [0, 1, 4, 0]],\n",
       "\n",
       "       [[8, 7, 2, 9],\n",
       "        [8, 5, 5, 1],\n",
       "        [2, 8, 9, 1],\n",
       "        [8, 7, 2, 9]],\n",
       "\n",
       "       [[2, 8, 9, 1],\n",
       "        [8, 5, 5, 1],\n",
       "        [1, 5, 0, 5],\n",
       "        [3, 8, 2, 3]],\n",
       "\n",
       "       [[8, 5, 5, 1],\n",
       "        [6, 9, 1, 2],\n",
       "        [2, 8, 9, 1],\n",
       "        [1, 5, 0, 5]],\n",
       "\n",
       "       [[0, 1, 4, 0],\n",
       "        [2, 8, 9, 1],\n",
       "        [5, 2, 6, 6],\n",
       "        [5, 2, 6, 6]],\n",
       "\n",
       "       [[0, 2, 6, 6],\n",
       "        [5, 2, 6, 6],\n",
       "        [8, 7, 2, 9],\n",
       "        [3, 8, 2, 3]],\n",
       "\n",
       "       [[4, 6, 3, 1],\n",
       "        [2, 8, 9, 1],\n",
       "        [5, 2, 6, 6],\n",
       "        [5, 2, 6, 6]],\n",
       "\n",
       "       [[5, 2, 6, 6],\n",
       "        [1, 5, 0, 5],\n",
       "        [3, 8, 2, 3],\n",
       "        [2, 8, 9, 1]],\n",
       "\n",
       "       [[8, 5, 5, 1],\n",
       "        [4, 6, 3, 1],\n",
       "        [4, 6, 3, 1],\n",
       "        [3, 8, 2, 3]],\n",
       "\n",
       "       [[3, 8, 2, 3],\n",
       "        [4, 6, 3, 1],\n",
       "        [0, 1, 4, 0],\n",
       "        [4, 6, 3, 1]]])"
      ]
     },
     "execution_count": 4,
     "metadata": {},
     "output_type": "execute_result"
    }
   ],
   "source": [
    "a[a]"
   ]
  },
  {
   "cell_type": "code",
   "execution_count": 20,
   "metadata": {
    "Collapsed": "false"
   },
   "outputs": [
    {
     "data": {
      "text/plain": [
       "(10, 4, 4)"
      ]
     },
     "execution_count": 20,
     "metadata": {},
     "output_type": "execute_result"
    }
   ],
   "source": [
    "a[a].shape"
   ]
  },
  {
   "cell_type": "markdown",
   "metadata": {
    "Collapsed": "false"
   },
   "source": [
    "## 1d_arr[1d_idx] = 1d_arr"
   ]
  },
  {
   "cell_type": "code",
   "execution_count": 11,
   "metadata": {
    "Collapsed": "false"
   },
   "outputs": [
    {
     "data": {
      "text/plain": [
       "array([2, 8, 9, 1])"
      ]
     },
     "execution_count": 11,
     "metadata": {},
     "output_type": "execute_result"
    }
   ],
   "source": [
    "a[2]"
   ]
  },
  {
   "cell_type": "code",
   "execution_count": 12,
   "metadata": {
    "Collapsed": "false"
   },
   "outputs": [
    {
     "data": {
      "text/plain": [
       "array([2, 2, 1, 8])"
      ]
     },
     "execution_count": 12,
     "metadata": {},
     "output_type": "execute_result"
    }
   ],
   "source": [
    "a[2][np.array([0, 0, 3, 1])]"
   ]
  },
  {
   "cell_type": "markdown",
   "metadata": {
    "Collapsed": "false"
   },
   "source": [
    "## 2d_arr[1d_idx] = 2d_arr"
   ]
  },
  {
   "cell_type": "code",
   "execution_count": 15,
   "metadata": {
    "Collapsed": "false"
   },
   "outputs": [
    {
     "data": {
      "text/plain": [
       "array([8, 7, 2, 9])"
      ]
     },
     "execution_count": 15,
     "metadata": {},
     "output_type": "execute_result"
    }
   ],
   "source": [
    "a[3]"
   ]
  },
  {
   "cell_type": "code",
   "execution_count": 14,
   "metadata": {
    "Collapsed": "false"
   },
   "outputs": [
    {
     "data": {
      "text/plain": [
       "array([[8, 5, 5, 1],\n",
       "       [6, 9, 1, 2],\n",
       "       [2, 8, 9, 1],\n",
       "       [1, 5, 0, 5]])"
      ]
     },
     "execution_count": 14,
     "metadata": {},
     "output_type": "execute_result"
    }
   ],
   "source": [
    "a[a[3]]"
   ]
  },
  {
   "cell_type": "markdown",
   "metadata": {
    "Collapsed": "false"
   },
   "source": [
    "## 1d_arr[2d_idx] = 2d_arr"
   ]
  },
  {
   "cell_type": "code",
   "execution_count": 15,
   "metadata": {
    "Collapsed": "false"
   },
   "outputs": [
    {
     "data": {
      "text/plain": [
       "array([8, 7, 2, 9])"
      ]
     },
     "execution_count": 15,
     "metadata": {},
     "output_type": "execute_result"
    }
   ],
   "source": [
    "a[3]"
   ]
  },
  {
   "cell_type": "code",
   "execution_count": 19,
   "metadata": {
    "Collapsed": "false"
   },
   "outputs": [
    {
     "data": {
      "text/plain": [
       "array([[8, 7, 9, 8],\n",
       "       [9, 9, 2, 9],\n",
       "       [2, 9, 9, 7],\n",
       "       [9, 9, 2, 9],\n",
       "       [8, 2, 9, 9],\n",
       "       [9, 9, 9, 7],\n",
       "       [9, 2, 9, 9],\n",
       "       [9, 9, 7, 2],\n",
       "       [9, 9, 9, 7],\n",
       "       [7, 9, 8, 9]])"
      ]
     },
     "execution_count": 19,
     "metadata": {},
     "output_type": "execute_result"
    }
   ],
   "source": [
    "a[3][np.clip(a, a_min=0, a_max=3)]"
   ]
  },
  {
   "cell_type": "code",
   "execution_count": null,
   "metadata": {
    "Collapsed": "false"
   },
   "outputs": [],
   "source": []
  }
 ],
 "metadata": {
  "kernelspec": {
   "display_name": "Python 3",
   "language": "python",
   "name": "python3"
  },
  "language_info": {
   "codemirror_mode": {
    "name": "ipython",
    "version": 3
   },
   "file_extension": ".py",
   "mimetype": "text/x-python",
   "name": "python",
   "nbconvert_exporter": "python",
   "pygments_lexer": "ipython3",
   "version": "3.7.6"
  }
 },
 "nbformat": 4,
 "nbformat_minor": 4
}
